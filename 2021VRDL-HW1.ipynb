{
 "cells": [
  {
   "cell_type": "code",
   "execution_count": 2,
   "id": "0ad89dd0",
   "metadata": {
    "execution": {
     "iopub.execute_input": "2021-11-04T12:09:49.049881Z",
     "iopub.status.busy": "2021-11-04T12:09:49.049146Z",
     "iopub.status.idle": "2021-11-04T12:09:54.550150Z",
     "shell.execute_reply": "2021-11-04T12:09:54.549678Z",
     "shell.execute_reply.started": "2021-11-04T10:40:25.686837Z"
    },
    "papermill": {
     "duration": 5.530154,
     "end_time": "2021-11-04T12:09:54.550279",
     "exception": false,
     "start_time": "2021-11-04T12:09:49.020125",
     "status": "completed"
    },
    "tags": []
   },
   "outputs": [],
   "source": [
    "import os\n",
    "import cv2\n",
    "import numpy as np\n",
    "\n",
    "import keras\n",
    "from keras.utils import np_utils\n",
    "from keras.models import Sequential, Model\n",
    "from keras.layers import Dense, Dropout, Flatten, BatchNormalization\n",
    "from keras.preprocessing.image import ImageDataGenerator\n",
    "from keras.applications.resnet import ResNet50\n",
    "from tensorflow.keras.optimizers import Adam\n",
    "from sklearn.model_selection import train_test_split\n",
    "from sklearn.metrics import accuracy_score"
   ]
  },
  {
   "cell_type": "markdown",
   "id": "1f90b256",
   "metadata": {
    "papermill": {
     "duration": 0.013974,
     "end_time": "2021-11-04T12:09:54.578775",
     "exception": false,
     "start_time": "2021-11-04T12:09:54.564801",
     "status": "completed"
    },
    "tags": []
   },
   "source": [
    "## Load data"
   ]
  },
  {
   "cell_type": "code",
   "execution_count": 3,
   "id": "5c6aacd1",
   "metadata": {
    "execution": {
     "iopub.execute_input": "2021-11-04T12:09:54.612908Z",
     "iopub.status.busy": "2021-11-04T12:09:54.612355Z",
     "iopub.status.idle": "2021-11-04T12:09:54.619519Z",
     "shell.execute_reply": "2021-11-04T12:09:54.619082Z",
     "shell.execute_reply.started": "2021-11-04T10:40:31.636492Z"
    },
    "papermill": {
     "duration": 0.026769,
     "end_time": "2021-11-04T12:09:54.619629",
     "exception": false,
     "start_time": "2021-11-04T12:09:54.592860",
     "status": "completed"
    },
    "tags": []
   },
   "outputs": [],
   "source": [
    "# Load all kinds of labels\n",
    "index2class = []\n",
    "with open(\"2021VRDL_HW1_datasets/classes.txt\", 'r') as file:\n",
    "    while True:\n",
    "        line = file.readline()\n",
    "        if not line:  # EOF encountered\n",
    "            break\n",
    "        index2class.append(line.split('\\n')[0])\n",
    "\n",
    "# Assign index to each of the labels\n",
    "class2index = dict()\n",
    "for i, c in enumerate(index2class):\n",
    "    class2index[c] = i"
   ]
  },
  {
   "cell_type": "code",
   "execution_count": 4,
   "id": "b5450c55",
   "metadata": {
    "execution": {
     "iopub.execute_input": "2021-11-04T12:09:54.653459Z",
     "iopub.status.busy": "2021-11-04T12:09:54.652871Z",
     "iopub.status.idle": "2021-11-04T12:09:54.812157Z",
     "shell.execute_reply": "2021-11-04T12:09:54.811661Z",
     "shell.execute_reply.started": "2021-11-04T10:40:31.660383Z"
    },
    "papermill": {
     "duration": 0.178466,
     "end_time": "2021-11-04T12:09:54.812274",
     "exception": false,
     "start_time": "2021-11-04T12:09:54.633808",
     "status": "completed"
    },
    "tags": []
   },
   "outputs": [],
   "source": [
    "# Read the labels of training data and keep their order\n",
    "x_train_order = []\n",
    "y_train_raw = []\n",
    "with open(\"2021VRDL_HW1_datasets/training_labels.txt\", 'r') as file:\n",
    "    while True:\n",
    "        line = file.readline()\n",
    "        if not line:  # EOF encountered\n",
    "            break\n",
    "        img_name, label = line.split('\\n')[0].split(' ')\n",
    "        x_train_order.append(img_name)\n",
    "        label_idx = class2index[label]\n",
    "        y_train_raw.append([label_idx])\n",
    "y_train_raw = np.array(y_train_raw)"
   ]
  },
  {
   "cell_type": "code",
   "execution_count": 5,
   "id": "28d75eec",
   "metadata": {
    "execution": {
     "iopub.execute_input": "2021-11-04T12:09:54.846843Z",
     "iopub.status.busy": "2021-11-04T12:09:54.846251Z",
     "iopub.status.idle": "2021-11-04T12:09:54.859088Z",
     "shell.execute_reply": "2021-11-04T12:09:54.858620Z",
     "shell.execute_reply.started": "2021-11-04T10:40:31.689118Z"
    },
    "papermill": {
     "duration": 0.032235,
     "end_time": "2021-11-04T12:09:54.859212",
     "exception": false,
     "start_time": "2021-11-04T12:09:54.826977",
     "status": "completed"
    },
    "tags": []
   },
   "outputs": [],
   "source": [
    "# Keep the order of reading testing data\n",
    "x_test_order = []\n",
    "with open(\"2021VRDL_HW1_datasets/testing_img_order.txt\", 'r') as file:\n",
    "    while True:\n",
    "        line = file.readline()\n",
    "        if not line:  # EOF encountered\n",
    "            break\n",
    "        x_test_order.append(line.split('\\n')[0])"
   ]
  },
  {
   "cell_type": "code",
   "execution_count": 6,
   "id": "75b52612",
   "metadata": {
    "execution": {
     "iopub.execute_input": "2021-11-04T12:09:54.893275Z",
     "iopub.status.busy": "2021-11-04T12:09:54.892380Z",
     "iopub.status.idle": "2021-11-04T12:10:55.993473Z",
     "shell.execute_reply": "2021-11-04T12:10:55.992919Z",
     "shell.execute_reply.started": "2021-11-04T10:40:31.705684Z"
    },
    "papermill": {
     "duration": 61.119469,
     "end_time": "2021-11-04T12:10:55.993632",
     "exception": false,
     "start_time": "2021-11-04T12:09:54.874163",
     "status": "completed"
    },
    "tags": []
   },
   "outputs": [],
   "source": [
    "# Load images of training and testing data in the specified order\n",
    "def load_images(img_dir, load_order):\n",
    "    dataset = []\n",
    "    for file in load_order:\n",
    "        img_path = img_dir + '/' + file\n",
    "        img = cv2.imread(img_path)\n",
    "        img_resize = cv2.resize(img, (224, 224))\n",
    "        dataset.append(img_resize)\n",
    "    return np.array(dataset)\n",
    "\n",
    "x_train_raw = load_images(\"2021VRDL_HW1_datasets/training_images\", x_train_order)\n",
    "x_test_raw = load_images(\"2021VRDL_HW1_datasets/testing_images\", x_test_order)"
   ]
  },
  {
   "cell_type": "code",
   "execution_count": 7,
   "id": "8f3f9e64",
   "metadata": {
    "execution": {
     "iopub.execute_input": "2021-11-04T12:10:56.030264Z",
     "iopub.status.busy": "2021-11-04T12:10:56.028911Z",
     "iopub.status.idle": "2021-11-04T12:10:56.032714Z",
     "shell.execute_reply": "2021-11-04T12:10:56.032076Z",
     "shell.execute_reply.started": "2021-11-04T10:41:51.522446Z"
    },
    "papermill": {
     "duration": 0.02407,
     "end_time": "2021-11-04T12:10:56.032860",
     "exception": false,
     "start_time": "2021-11-04T12:10:56.008790",
     "status": "completed"
    },
    "tags": []
   },
   "outputs": [
    {
     "name": "stdout",
     "output_type": "stream",
     "text": [
      "(3000, 224, 224, 3)\n",
      "(3033, 224, 224, 3)\n",
      "(3000, 1)\n"
     ]
    }
   ],
   "source": [
    "print(x_train_raw.shape)\n",
    "print(x_test_raw.shape)\n",
    "print(y_train_raw.shape)"
   ]
  },
  {
   "cell_type": "markdown",
   "id": "598ba96b",
   "metadata": {
    "papermill": {
     "duration": 0.014297,
     "end_time": "2021-11-04T12:10:56.063931",
     "exception": false,
     "start_time": "2021-11-04T12:10:56.049634",
     "status": "completed"
    },
    "tags": []
   },
   "source": [
    "## Data preprocessing"
   ]
  },
  {
   "cell_type": "code",
   "execution_count": 8,
   "id": "46e10c56",
   "metadata": {
    "execution": {
     "iopub.execute_input": "2021-11-04T12:10:56.097545Z",
     "iopub.status.busy": "2021-11-04T12:10:56.096543Z",
     "iopub.status.idle": "2021-11-04T12:10:56.423243Z",
     "shell.execute_reply": "2021-11-04T12:10:56.422782Z",
     "shell.execute_reply.started": "2021-11-04T10:41:51.529462Z"
    },
    "papermill": {
     "duration": 0.344979,
     "end_time": "2021-11-04T12:10:56.423387",
     "exception": false,
     "start_time": "2021-11-04T12:10:56.078408",
     "status": "completed"
    },
    "tags": []
   },
   "outputs": [],
   "source": [
    "x_train = x_train_raw.copy()\n",
    "x_test = x_test_raw.copy()\n",
    "\n",
    "# Convert class vectors to one-hot encoding (keras model requires one-hot label as inputs)\n",
    "num_classes = len(index2class)\n",
    "y_train = np_utils.to_categorical(y_train_raw, num_classes)"
   ]
  },
  {
   "cell_type": "code",
   "execution_count": 9,
   "id": "db2eaf03",
   "metadata": {
    "execution": {
     "iopub.execute_input": "2021-11-04T12:10:56.459237Z",
     "iopub.status.busy": "2021-11-04T12:10:56.458719Z",
     "iopub.status.idle": "2021-11-04T12:10:56.595022Z",
     "shell.execute_reply": "2021-11-04T12:10:56.594553Z",
     "shell.execute_reply.started": "2021-11-04T10:41:51.867510Z"
    },
    "papermill": {
     "duration": 0.156879,
     "end_time": "2021-11-04T12:10:56.595149",
     "exception": false,
     "start_time": "2021-11-04T12:10:56.438270",
     "status": "completed"
    },
    "tags": []
   },
   "outputs": [],
   "source": [
    "# Split out some training data for validation\n",
    "num_data = x_train.shape[0]\n",
    "train_idx, valid_idx = train_test_split(range(num_data), random_state=777, train_size=0.7)\n",
    "\n",
    "x_train_train = x_train[train_idx]\n",
    "x_train_valid = x_train[valid_idx]\n",
    "y_train_train = y_train[train_idx]\n",
    "y_train_valid = y_train[valid_idx]"
   ]
  },
  {
   "cell_type": "code",
   "execution_count": 10,
   "id": "c8ed8ba8",
   "metadata": {
    "execution": {
     "iopub.execute_input": "2021-11-04T12:10:56.630369Z",
     "iopub.status.busy": "2021-11-04T12:10:56.629659Z",
     "iopub.status.idle": "2021-11-04T12:10:56.633154Z",
     "shell.execute_reply": "2021-11-04T12:10:56.633561Z",
     "shell.execute_reply.started": "2021-11-04T10:41:52.015841Z"
    },
    "papermill": {
     "duration": 0.023701,
     "end_time": "2021-11-04T12:10:56.633687",
     "exception": false,
     "start_time": "2021-11-04T12:10:56.609986",
     "status": "completed"
    },
    "tags": []
   },
   "outputs": [
    {
     "name": "stdout",
     "output_type": "stream",
     "text": [
      "(2100, 224, 224, 3)\n",
      "(900, 224, 224, 3)\n",
      "(2100, 200)\n",
      "(900, 200)\n"
     ]
    }
   ],
   "source": [
    "print(x_train_train.shape)\n",
    "print(x_train_valid.shape)\n",
    "print(y_train_train.shape)\n",
    "print(y_train_valid.shape)"
   ]
  },
  {
   "cell_type": "markdown",
   "id": "db3560b0",
   "metadata": {
    "papermill": {
     "duration": 0.015766,
     "end_time": "2021-11-04T12:10:56.664529",
     "exception": false,
     "start_time": "2021-11-04T12:10:56.648763",
     "status": "completed"
    },
    "tags": []
   },
   "source": [
    "## Build model and validate its performance"
   ]
  },
  {
   "cell_type": "code",
   "execution_count": 11,
   "id": "f72de256",
   "metadata": {
    "execution": {
     "iopub.execute_input": "2021-11-04T12:10:56.703251Z",
     "iopub.status.busy": "2021-11-04T12:10:56.702488Z",
     "iopub.status.idle": "2021-11-04T12:38:40.785727Z",
     "shell.execute_reply": "2021-11-04T12:38:40.785223Z",
     "shell.execute_reply.started": "2021-11-04T10:41:52.026852Z"
    },
    "papermill": {
     "duration": 1664.105949,
     "end_time": "2021-11-04T12:38:40.785868",
     "exception": false,
     "start_time": "2021-11-04T12:10:56.679919",
     "status": "completed"
    },
    "tags": []
   },
   "outputs": [
    {
     "name": "stderr",
     "output_type": "stream",
     "text": [
      "2021-11-04 12:10:56.799403: I tensorflow/stream_executor/cuda/cuda_gpu_executor.cc:937] successful NUMA node read from SysFS had negative value (-1), but there must be at least one NUMA node, so returning NUMA node zero\n",
      "2021-11-04 12:10:56.909568: I tensorflow/stream_executor/cuda/cuda_gpu_executor.cc:937] successful NUMA node read from SysFS had negative value (-1), but there must be at least one NUMA node, so returning NUMA node zero\n",
      "2021-11-04 12:10:56.910303: I tensorflow/stream_executor/cuda/cuda_gpu_executor.cc:937] successful NUMA node read from SysFS had negative value (-1), but there must be at least one NUMA node, so returning NUMA node zero\n",
      "2021-11-04 12:10:56.912173: I tensorflow/core/platform/cpu_feature_guard.cc:142] This TensorFlow binary is optimized with oneAPI Deep Neural Network Library (oneDNN) to use the following CPU instructions in performance-critical operations:  AVX2 AVX512F FMA\n",
      "To enable them in other operations, rebuild TensorFlow with the appropriate compiler flags.\n",
      "2021-11-04 12:10:56.913277: I tensorflow/stream_executor/cuda/cuda_gpu_executor.cc:937] successful NUMA node read from SysFS had negative value (-1), but there must be at least one NUMA node, so returning NUMA node zero\n",
      "2021-11-04 12:10:56.913995: I tensorflow/stream_executor/cuda/cuda_gpu_executor.cc:937] successful NUMA node read from SysFS had negative value (-1), but there must be at least one NUMA node, so returning NUMA node zero\n",
      "2021-11-04 12:10:56.914688: I tensorflow/stream_executor/cuda/cuda_gpu_executor.cc:937] successful NUMA node read from SysFS had negative value (-1), but there must be at least one NUMA node, so returning NUMA node zero\n",
      "2021-11-04 12:10:58.732478: I tensorflow/stream_executor/cuda/cuda_gpu_executor.cc:937] successful NUMA node read from SysFS had negative value (-1), but there must be at least one NUMA node, so returning NUMA node zero\n",
      "2021-11-04 12:10:58.733899: I tensorflow/stream_executor/cuda/cuda_gpu_executor.cc:937] successful NUMA node read from SysFS had negative value (-1), but there must be at least one NUMA node, so returning NUMA node zero\n",
      "2021-11-04 12:10:58.735063: I tensorflow/stream_executor/cuda/cuda_gpu_executor.cc:937] successful NUMA node read from SysFS had negative value (-1), but there must be at least one NUMA node, so returning NUMA node zero\n",
      "2021-11-04 12:10:58.735845: I tensorflow/core/common_runtime/gpu/gpu_device.cc:1510] Created device /job:localhost/replica:0/task:0/device:GPU:0 with 15403 MB memory:  -> device: 0, name: Tesla P100-PCIE-16GB, pci bus id: 0000:00:04.0, compute capability: 6.0\n"
     ]
    },
    {
     "name": "stdout",
     "output_type": "stream",
     "text": [
      "Downloading data from https://storage.googleapis.com/tensorflow/keras-applications/resnet/resnet50_weights_tf_dim_ordering_tf_kernels_notop.h5\n",
      "94773248/94765736 [==============================] - 1s 0us/step\n",
      "94781440/94765736 [==============================] - 1s 0us/step\n",
      "Phase 1\n"
     ]
    },
    {
     "name": "stderr",
     "output_type": "stream",
     "text": [
      "2021-11-04 12:11:03.717438: I tensorflow/compiler/mlir/mlir_graph_optimization_pass.cc:185] None of the MLIR Optimization Passes are enabled (registered 2)\n"
     ]
    },
    {
     "name": "stdout",
     "output_type": "stream",
     "text": [
      "Epoch 1/30\n"
     ]
    },
    {
     "name": "stderr",
     "output_type": "stream",
     "text": [
      "2021-11-04 12:11:08.311115: I tensorflow/stream_executor/cuda/cuda_dnn.cc:369] Loaded cuDNN version 8005\n"
     ]
    },
    {
     "name": "stdout",
     "output_type": "stream",
     "text": [
      "33/33 [==============================] - 35s 790ms/step - loss: 5.9529 - accuracy: 0.0095 - val_loss: 5.8924 - val_accuracy: 0.0178\n",
      "Epoch 2/30\n",
      "33/33 [==============================] - 26s 774ms/step - loss: 4.9394 - accuracy: 0.0605 - val_loss: 4.7315 - val_accuracy: 0.0767\n",
      "Epoch 3/30\n",
      "33/33 [==============================] - 24s 717ms/step - loss: 4.1983 - accuracy: 0.1452 - val_loss: 4.1238 - val_accuracy: 0.1389\n",
      "Epoch 4/30\n",
      "33/33 [==============================] - 24s 741ms/step - loss: 3.5105 - accuracy: 0.2405 - val_loss: 3.7024 - val_accuracy: 0.2033\n",
      "Epoch 5/30\n",
      "33/33 [==============================] - 24s 730ms/step - loss: 3.0366 - accuracy: 0.3343 - val_loss: 3.3962 - val_accuracy: 0.2433\n",
      "Epoch 6/30\n",
      "33/33 [==============================] - 24s 737ms/step - loss: 2.6777 - accuracy: 0.4067 - val_loss: 3.1796 - val_accuracy: 0.2700\n",
      "Epoch 7/30\n",
      "33/33 [==============================] - 25s 744ms/step - loss: 2.3520 - accuracy: 0.4624 - val_loss: 3.0080 - val_accuracy: 0.3067\n",
      "Epoch 8/30\n",
      "33/33 [==============================] - 25s 745ms/step - loss: 2.0663 - accuracy: 0.5390 - val_loss: 2.8667 - val_accuracy: 0.3478\n",
      "Epoch 9/30\n",
      "33/33 [==============================] - 24s 724ms/step - loss: 1.8174 - accuracy: 0.5976 - val_loss: 2.7730 - val_accuracy: 0.3578\n",
      "Epoch 10/30\n",
      "33/33 [==============================] - 25s 754ms/step - loss: 1.6202 - accuracy: 0.6405 - val_loss: 2.6760 - val_accuracy: 0.3644\n",
      "Epoch 11/30\n",
      "33/33 [==============================] - 24s 738ms/step - loss: 1.4934 - accuracy: 0.6776 - val_loss: 2.6068 - val_accuracy: 0.3800\n",
      "Epoch 12/30\n",
      "33/33 [==============================] - 26s 779ms/step - loss: 1.3754 - accuracy: 0.6943 - val_loss: 2.5485 - val_accuracy: 0.3911\n",
      "Epoch 13/30\n",
      "33/33 [==============================] - 24s 737ms/step - loss: 1.2433 - accuracy: 0.7305 - val_loss: 2.5039 - val_accuracy: 0.4022\n",
      "Epoch 14/30\n",
      "33/33 [==============================] - 24s 742ms/step - loss: 1.1214 - accuracy: 0.7652 - val_loss: 2.4622 - val_accuracy: 0.4022\n",
      "Epoch 15/30\n",
      "33/33 [==============================] - 24s 728ms/step - loss: 1.0319 - accuracy: 0.7814 - val_loss: 2.4227 - val_accuracy: 0.4089\n",
      "Epoch 16/30\n",
      "33/33 [==============================] - 25s 736ms/step - loss: 0.9384 - accuracy: 0.8148 - val_loss: 2.4013 - val_accuracy: 0.4122\n",
      "Epoch 17/30\n",
      "33/33 [==============================] - 25s 744ms/step - loss: 0.8526 - accuracy: 0.8348 - val_loss: 2.3705 - val_accuracy: 0.4156\n",
      "Epoch 18/30\n",
      "33/33 [==============================] - 24s 729ms/step - loss: 0.8126 - accuracy: 0.8295 - val_loss: 2.3449 - val_accuracy: 0.4267\n",
      "Epoch 19/30\n",
      "33/33 [==============================] - 23s 705ms/step - loss: 0.7348 - accuracy: 0.8586 - val_loss: 2.3296 - val_accuracy: 0.4378\n",
      "Epoch 20/30\n",
      "33/33 [==============================] - 25s 743ms/step - loss: 0.7133 - accuracy: 0.8652 - val_loss: 2.3123 - val_accuracy: 0.4289\n",
      "Epoch 21/30\n",
      "33/33 [==============================] - 25s 742ms/step - loss: 0.6563 - accuracy: 0.8805 - val_loss: 2.2993 - val_accuracy: 0.4367\n",
      "Epoch 22/30\n",
      "33/33 [==============================] - 25s 756ms/step - loss: 0.5958 - accuracy: 0.8857 - val_loss: 2.2945 - val_accuracy: 0.4422\n",
      "Epoch 23/30\n",
      "33/33 [==============================] - 24s 730ms/step - loss: 0.5455 - accuracy: 0.8995 - val_loss: 2.2898 - val_accuracy: 0.4356\n",
      "Epoch 24/30\n",
      "33/33 [==============================] - 25s 747ms/step - loss: 0.5172 - accuracy: 0.9100 - val_loss: 2.2673 - val_accuracy: 0.4322\n",
      "Epoch 25/30\n",
      "33/33 [==============================] - 25s 748ms/step - loss: 0.5166 - accuracy: 0.9024 - val_loss: 2.2610 - val_accuracy: 0.4289\n",
      "Epoch 26/30\n",
      "33/33 [==============================] - 25s 747ms/step - loss: 0.4629 - accuracy: 0.9224 - val_loss: 2.2568 - val_accuracy: 0.4344\n",
      "Epoch 27/30\n",
      "33/33 [==============================] - 24s 713ms/step - loss: 0.4245 - accuracy: 0.9276 - val_loss: 2.2512 - val_accuracy: 0.4322\n",
      "Epoch 28/30\n",
      "33/33 [==============================] - 25s 749ms/step - loss: 0.4139 - accuracy: 0.9290 - val_loss: 2.2529 - val_accuracy: 0.4289\n",
      "Epoch 29/30\n",
      "33/33 [==============================] - 24s 738ms/step - loss: 0.3868 - accuracy: 0.9295 - val_loss: 2.2501 - val_accuracy: 0.4300\n",
      "Epoch 30/30\n",
      "33/33 [==============================] - 24s 738ms/step - loss: 0.3651 - accuracy: 0.9386 - val_loss: 2.2509 - val_accuracy: 0.4278\n",
      "Phase 2\n",
      "Epoch 1/30\n",
      "33/33 [==============================] - 35s 867ms/step - loss: 0.8020 - accuracy: 0.8186 - val_loss: 2.2095 - val_accuracy: 0.4456\n",
      "Epoch 2/30\n",
      "33/33 [==============================] - 28s 834ms/step - loss: 0.6521 - accuracy: 0.8624 - val_loss: 2.1824 - val_accuracy: 0.4533\n",
      "Epoch 3/30\n",
      "33/33 [==============================] - 28s 838ms/step - loss: 0.5780 - accuracy: 0.8786 - val_loss: 2.1523 - val_accuracy: 0.4600\n",
      "Epoch 4/30\n",
      "33/33 [==============================] - 28s 840ms/step - loss: 0.5267 - accuracy: 0.8952 - val_loss: 2.1223 - val_accuracy: 0.4589\n",
      "Epoch 5/30\n",
      "33/33 [==============================] - 27s 814ms/step - loss: 0.4760 - accuracy: 0.9110 - val_loss: 2.0944 - val_accuracy: 0.4611\n",
      "Epoch 6/30\n",
      "33/33 [==============================] - 28s 820ms/step - loss: 0.4451 - accuracy: 0.9181 - val_loss: 2.0848 - val_accuracy: 0.4622\n",
      "Epoch 7/30\n",
      "33/33 [==============================] - 28s 833ms/step - loss: 0.4064 - accuracy: 0.9238 - val_loss: 2.0791 - val_accuracy: 0.4689\n",
      "Epoch 8/30\n",
      "33/33 [==============================] - 28s 833ms/step - loss: 0.3837 - accuracy: 0.9267 - val_loss: 2.0699 - val_accuracy: 0.4733\n",
      "Epoch 9/30\n",
      "33/33 [==============================] - 27s 822ms/step - loss: 0.3812 - accuracy: 0.9305 - val_loss: 2.0557 - val_accuracy: 0.4733\n",
      "Epoch 10/30\n",
      "33/33 [==============================] - 28s 844ms/step - loss: 0.3451 - accuracy: 0.9424 - val_loss: 2.0549 - val_accuracy: 0.4789\n",
      "Epoch 11/30\n",
      "33/33 [==============================] - 28s 851ms/step - loss: 0.3287 - accuracy: 0.9419 - val_loss: 2.0517 - val_accuracy: 0.4733\n",
      "Epoch 12/30\n",
      "33/33 [==============================] - 27s 807ms/step - loss: 0.3262 - accuracy: 0.9462 - val_loss: 2.0460 - val_accuracy: 0.4767\n",
      "Epoch 13/30\n",
      "33/33 [==============================] - 28s 833ms/step - loss: 0.3075 - accuracy: 0.9500 - val_loss: 2.0407 - val_accuracy: 0.4822\n",
      "Epoch 14/30\n",
      "33/33 [==============================] - 28s 839ms/step - loss: 0.2771 - accuracy: 0.9624 - val_loss: 2.0291 - val_accuracy: 0.4822\n",
      "Epoch 15/30\n",
      "33/33 [==============================] - 28s 832ms/step - loss: 0.2652 - accuracy: 0.9619 - val_loss: 2.0266 - val_accuracy: 0.4822\n",
      "Epoch 16/30\n",
      "33/33 [==============================] - 27s 825ms/step - loss: 0.2655 - accuracy: 0.9495 - val_loss: 2.0256 - val_accuracy: 0.4789\n",
      "Epoch 17/30\n",
      "33/33 [==============================] - 28s 847ms/step - loss: 0.2412 - accuracy: 0.9667 - val_loss: 2.0199 - val_accuracy: 0.4833\n",
      "Epoch 18/30\n",
      "33/33 [==============================] - 27s 828ms/step - loss: 0.2456 - accuracy: 0.9643 - val_loss: 2.0085 - val_accuracy: 0.4889\n",
      "Epoch 19/30\n",
      "33/33 [==============================] - 28s 844ms/step - loss: 0.2302 - accuracy: 0.9681 - val_loss: 2.0015 - val_accuracy: 0.4856\n",
      "Epoch 20/30\n",
      "33/33 [==============================] - 27s 822ms/step - loss: 0.2197 - accuracy: 0.9676 - val_loss: 1.9889 - val_accuracy: 0.4933\n",
      "Epoch 21/30\n",
      "33/33 [==============================] - 27s 829ms/step - loss: 0.2156 - accuracy: 0.9700 - val_loss: 1.9901 - val_accuracy: 0.4933\n",
      "Epoch 22/30\n",
      "33/33 [==============================] - 27s 828ms/step - loss: 0.2066 - accuracy: 0.9729 - val_loss: 1.9903 - val_accuracy: 0.4856\n",
      "Epoch 23/30\n",
      "33/33 [==============================] - 27s 817ms/step - loss: 0.2055 - accuracy: 0.9729 - val_loss: 1.9767 - val_accuracy: 0.4967\n",
      "Epoch 24/30\n",
      "33/33 [==============================] - 27s 814ms/step - loss: 0.1978 - accuracy: 0.9762 - val_loss: 1.9741 - val_accuracy: 0.4922\n",
      "Epoch 25/30\n",
      "33/33 [==============================] - 28s 832ms/step - loss: 0.1868 - accuracy: 0.9786 - val_loss: 1.9749 - val_accuracy: 0.4911\n",
      "Epoch 26/30\n",
      "33/33 [==============================] - 27s 825ms/step - loss: 0.1923 - accuracy: 0.9743 - val_loss: 1.9751 - val_accuracy: 0.4878\n",
      "Epoch 27/30\n",
      "33/33 [==============================] - 27s 827ms/step - loss: 0.1804 - accuracy: 0.9719 - val_loss: 1.9704 - val_accuracy: 0.4956\n",
      "Epoch 28/30\n",
      "33/33 [==============================] - 27s 819ms/step - loss: 0.1691 - accuracy: 0.9752 - val_loss: 1.9647 - val_accuracy: 0.4989\n",
      "Epoch 29/30\n",
      "33/33 [==============================] - 28s 841ms/step - loss: 0.1698 - accuracy: 0.9776 - val_loss: 1.9631 - val_accuracy: 0.4944\n",
      "Epoch 30/30\n",
      "33/33 [==============================] - 27s 816ms/step - loss: 0.1642 - accuracy: 0.9824 - val_loss: 1.9508 - val_accuracy: 0.4967\n"
     ]
    },
    {
     "data": {
      "text/plain": [
       "<keras.callbacks.History at 0x7f51b0496190>"
      ]
     },
     "execution_count": 11,
     "metadata": {},
     "output_type": "execute_result"
    }
   ],
   "source": [
    "# Build model\n",
    "base_model = ResNet50(weights=\"imagenet\", input_shape=(224, 224, 3), include_top=False, pooling='max')\n",
    "\n",
    "model = Sequential()\n",
    "model.add(base_model)\n",
    "model.add(Flatten())\n",
    "model.add(BatchNormalization())\n",
    "model.add(Dense(2048, activation='relu'))\n",
    "model.add(Dropout(0.35))\n",
    "model.add(BatchNormalization())\n",
    "model.add(Dense(2048, activation='relu'))\n",
    "model.add(Dropout(0.35))\n",
    "model.add(BatchNormalization())\n",
    "model.add(Dense(200, activation='softmax'))\n",
    "\n",
    "# Data augmentation\n",
    "datagen = ImageDataGenerator(\n",
    "    rotation_range=25,  # randomly rotate images in the range (degrees, 0 to 180)\n",
    "    width_shift_range=0.2,  # randomly shift images horizontally (fraction of total width)\n",
    "    height_shift_range=0.2,  # randomly shift images vertically (fraction of total height)\n",
    "    zoom_range=0.15,\n",
    "    shear_range=0.15,\n",
    "    horizontal_flip=True,  # randomly flip images\n",
    "    vertical_flip=False)  # randomly flip images\n",
    "\n",
    "# Compile and fit\n",
    "print(\"Phase 1\")\n",
    "base_model.trainable = False\n",
    "opr = Adam(learning_rate=1e-4)\n",
    "model.compile(loss='categorical_crossentropy', optimizer=opr, metrics=['accuracy'])\n",
    "\n",
    "model.fit(datagen.flow(x_train_train, y_train_train, batch_size=64),\n",
    "          epochs=30,\n",
    "          validation_data=(x_train_valid, y_train_valid),\n",
    "          shuffle=True)\n",
    "\n",
    "print(\"Phase 2\")\n",
    "base_model.trainable = True\n",
    "opr = Adam(learning_rate=1e-5)\n",
    "model.compile(loss='categorical_crossentropy', optimizer=opr, metrics=['accuracy'])\n",
    "\n",
    "model.fit(datagen.flow(x_train_train, y_train_train, batch_size=64),\n",
    "          epochs=30,\n",
    "          validation_data=(x_train_valid, y_train_valid),\n",
    "          shuffle=True)"
   ]
  },
  {
   "cell_type": "code",
   "execution_count": 12,
   "id": "d2fb0787",
   "metadata": {
    "execution": {
     "iopub.execute_input": "2021-11-04T12:38:41.902267Z",
     "iopub.status.busy": "2021-11-04T12:38:41.901218Z",
     "iopub.status.idle": "2021-11-04T12:38:44.358234Z",
     "shell.execute_reply": "2021-11-04T12:38:44.357596Z",
     "shell.execute_reply.started": "2021-11-04T11:08:37.566287Z"
    },
    "papermill": {
     "duration": 3.013157,
     "end_time": "2021-11-04T12:38:44.358422",
     "exception": false,
     "start_time": "2021-11-04T12:38:41.345265",
     "status": "completed"
    },
    "tags": []
   },
   "outputs": [
    {
     "name": "stdout",
     "output_type": "stream",
     "text": [
      "(900, 200)\n",
      "(900,)\n"
     ]
    }
   ],
   "source": [
    "y_valid_pred = model.predict(x_train_valid)\n",
    "print(y_valid_pred.shape)\n",
    "y_valid_pred = np.argmax(y_valid_pred, axis=1)\n",
    "print(y_valid_pred.shape)"
   ]
  },
  {
   "cell_type": "markdown",
   "id": "910bc15d",
   "metadata": {
    "papermill": {
     "duration": 0.640049,
     "end_time": "2021-11-04T12:38:45.550067",
     "exception": false,
     "start_time": "2021-11-04T12:38:44.910018",
     "status": "completed"
    },
    "tags": []
   },
   "source": [
    "## Train the model and do prediction"
   ]
  },
  {
   "cell_type": "code",
   "execution_count": 13,
   "id": "86f5e9ad",
   "metadata": {
    "execution": {
     "iopub.execute_input": "2021-11-04T12:38:47.041150Z",
     "iopub.status.busy": "2021-11-04T12:38:47.040131Z",
     "iopub.status.idle": "2021-11-04T12:38:47.043354Z",
     "shell.execute_reply": "2021-11-04T12:38:47.043801Z",
     "shell.execute_reply.started": "2021-11-04T11:08:40.009315Z"
    },
    "papermill": {
     "duration": 0.583178,
     "end_time": "2021-11-04T12:38:47.043932",
     "exception": false,
     "start_time": "2021-11-04T12:38:46.460754",
     "status": "completed"
    },
    "tags": []
   },
   "outputs": [
    {
     "name": "stdout",
     "output_type": "stream",
     "text": [
      "(3000, 224, 224, 3)\n",
      "(3000, 200)\n"
     ]
    }
   ],
   "source": [
    "print(x_train.shape)\n",
    "print(y_train.shape)"
   ]
  },
  {
   "cell_type": "code",
   "execution_count": 14,
   "id": "d9893df6",
   "metadata": {
    "execution": {
     "iopub.execute_input": "2021-11-04T12:38:48.179988Z",
     "iopub.status.busy": "2021-11-04T12:38:48.179147Z",
     "iopub.status.idle": "2021-11-04T13:14:53.007169Z",
     "shell.execute_reply": "2021-11-04T13:14:53.007708Z",
     "shell.execute_reply.started": "2021-11-04T11:16:14.649522Z"
    },
    "papermill": {
     "duration": 2165.400103,
     "end_time": "2021-11-04T13:14:53.007868",
     "exception": false,
     "start_time": "2021-11-04T12:38:47.607765",
     "status": "completed"
    },
    "tags": []
   },
   "outputs": [
    {
     "name": "stdout",
     "output_type": "stream",
     "text": [
      "Phase 1\n",
      "Epoch 1/30\n",
      "47/47 [==============================] - 35s 688ms/step - loss: 5.8064 - accuracy: 0.0127\n",
      "Epoch 2/30\n",
      "47/47 [==============================] - 33s 697ms/step - loss: 4.6601 - accuracy: 0.0810\n",
      "Epoch 3/30\n",
      "47/47 [==============================] - 33s 699ms/step - loss: 3.8383 - accuracy: 0.1850\n",
      "Epoch 4/30\n",
      "47/47 [==============================] - 33s 709ms/step - loss: 3.2439 - accuracy: 0.2770\n",
      "Epoch 5/30\n",
      "47/47 [==============================] - 33s 695ms/step - loss: 2.7671 - accuracy: 0.3783\n",
      "Epoch 6/30\n",
      "47/47 [==============================] - 33s 698ms/step - loss: 2.4269 - accuracy: 0.4440\n",
      "Epoch 7/30\n",
      "47/47 [==============================] - 33s 706ms/step - loss: 2.1055 - accuracy: 0.5137\n",
      "Epoch 8/30\n",
      "47/47 [==============================] - 33s 708ms/step - loss: 1.9030 - accuracy: 0.5503\n",
      "Epoch 9/30\n",
      "47/47 [==============================] - 32s 688ms/step - loss: 1.7051 - accuracy: 0.6040\n",
      "Epoch 10/30\n",
      "47/47 [==============================] - 33s 691ms/step - loss: 1.5315 - accuracy: 0.6573\n",
      "Epoch 11/30\n",
      "47/47 [==============================] - 33s 701ms/step - loss: 1.3545 - accuracy: 0.6907\n",
      "Epoch 12/30\n",
      "47/47 [==============================] - 33s 699ms/step - loss: 1.2488 - accuracy: 0.7193\n",
      "Epoch 13/30\n",
      "47/47 [==============================] - 33s 695ms/step - loss: 1.1506 - accuracy: 0.7420\n",
      "Epoch 14/30\n",
      "47/47 [==============================] - 32s 690ms/step - loss: 1.0827 - accuracy: 0.7540\n",
      "Epoch 15/30\n",
      "47/47 [==============================] - 33s 707ms/step - loss: 0.9939 - accuracy: 0.7783\n",
      "Epoch 16/30\n",
      "47/47 [==============================] - 33s 701ms/step - loss: 0.8726 - accuracy: 0.8193\n",
      "Epoch 17/30\n",
      "47/47 [==============================] - 33s 697ms/step - loss: 0.8315 - accuracy: 0.8177\n",
      "Epoch 18/30\n",
      "47/47 [==============================] - 33s 692ms/step - loss: 0.7736 - accuracy: 0.8283\n",
      "Epoch 19/30\n",
      "47/47 [==============================] - 33s 700ms/step - loss: 0.7187 - accuracy: 0.8413\n",
      "Epoch 20/30\n",
      "47/47 [==============================] - 33s 709ms/step - loss: 0.6781 - accuracy: 0.8600\n",
      "Epoch 21/30\n",
      "47/47 [==============================] - 33s 692ms/step - loss: 0.6367 - accuracy: 0.8700\n",
      "Epoch 22/30\n",
      "47/47 [==============================] - 33s 693ms/step - loss: 0.5900 - accuracy: 0.8750\n",
      "Epoch 23/30\n",
      "47/47 [==============================] - 33s 699ms/step - loss: 0.5819 - accuracy: 0.8710\n",
      "Epoch 24/30\n",
      "47/47 [==============================] - 33s 710ms/step - loss: 0.5258 - accuracy: 0.8870\n",
      "Epoch 25/30\n",
      "47/47 [==============================] - 33s 710ms/step - loss: 0.4857 - accuracy: 0.9007\n",
      "Epoch 26/30\n",
      "47/47 [==============================] - 33s 706ms/step - loss: 0.4673 - accuracy: 0.9000\n",
      "Epoch 27/30\n",
      "47/47 [==============================] - 33s 706ms/step - loss: 0.4570 - accuracy: 0.9007\n",
      "Epoch 28/30\n",
      "47/47 [==============================] - 33s 693ms/step - loss: 0.4172 - accuracy: 0.9173\n",
      "Epoch 29/30\n",
      "47/47 [==============================] - 33s 699ms/step - loss: 0.4099 - accuracy: 0.9220\n",
      "Epoch 30/30\n",
      "47/47 [==============================] - 33s 702ms/step - loss: 0.3657 - accuracy: 0.9280\n",
      "Phase 2\n",
      "Epoch 1/30\n",
      "47/47 [==============================] - 43s 800ms/step - loss: 0.7631 - accuracy: 0.8137\n",
      "Epoch 2/30\n",
      "47/47 [==============================] - 37s 780ms/step - loss: 0.6216 - accuracy: 0.8527\n",
      "Epoch 3/30\n",
      "47/47 [==============================] - 38s 799ms/step - loss: 0.5233 - accuracy: 0.8853\n",
      "Epoch 4/30\n",
      "47/47 [==============================] - 37s 783ms/step - loss: 0.4805 - accuracy: 0.8897\n",
      "Epoch 5/30\n",
      "47/47 [==============================] - 38s 811ms/step - loss: 0.4482 - accuracy: 0.9067\n",
      "Epoch 6/30\n",
      "47/47 [==============================] - 37s 776ms/step - loss: 0.4157 - accuracy: 0.9077\n",
      "Epoch 7/30\n",
      "47/47 [==============================] - 39s 817ms/step - loss: 0.3868 - accuracy: 0.9223\n",
      "Epoch 8/30\n",
      "47/47 [==============================] - 37s 782ms/step - loss: 0.3580 - accuracy: 0.9307\n",
      "Epoch 9/30\n",
      "47/47 [==============================] - 37s 791ms/step - loss: 0.3308 - accuracy: 0.9350\n",
      "Epoch 10/30\n",
      "47/47 [==============================] - 37s 776ms/step - loss: 0.3067 - accuracy: 0.9397\n",
      "Epoch 11/30\n",
      "47/47 [==============================] - 38s 801ms/step - loss: 0.2987 - accuracy: 0.9460\n",
      "Epoch 12/30\n",
      "47/47 [==============================] - 38s 801ms/step - loss: 0.2838 - accuracy: 0.9453\n",
      "Epoch 13/30\n",
      "47/47 [==============================] - 39s 811ms/step - loss: 0.2728 - accuracy: 0.9457\n",
      "Epoch 14/30\n",
      "47/47 [==============================] - 37s 789ms/step - loss: 0.2680 - accuracy: 0.9460\n",
      "Epoch 15/30\n",
      "47/47 [==============================] - 38s 802ms/step - loss: 0.2605 - accuracy: 0.9520\n",
      "Epoch 16/30\n",
      "47/47 [==============================] - 38s 798ms/step - loss: 0.2411 - accuracy: 0.9567\n",
      "Epoch 17/30\n",
      "47/47 [==============================] - 38s 801ms/step - loss: 0.2130 - accuracy: 0.9660\n",
      "Epoch 18/30\n",
      "47/47 [==============================] - 38s 795ms/step - loss: 0.2219 - accuracy: 0.9617\n",
      "Epoch 19/30\n",
      "47/47 [==============================] - 40s 829ms/step - loss: 0.2135 - accuracy: 0.9600\n",
      "Epoch 20/30\n",
      "47/47 [==============================] - 38s 798ms/step - loss: 0.1930 - accuracy: 0.9733\n",
      "Epoch 21/30\n",
      "47/47 [==============================] - 38s 799ms/step - loss: 0.1883 - accuracy: 0.9727\n",
      "Epoch 22/30\n",
      "47/47 [==============================] - 38s 799ms/step - loss: 0.1838 - accuracy: 0.9717\n",
      "Epoch 23/30\n",
      "47/47 [==============================] - 38s 806ms/step - loss: 0.1917 - accuracy: 0.9677\n",
      "Epoch 24/30\n",
      "47/47 [==============================] - 38s 803ms/step - loss: 0.1691 - accuracy: 0.9737\n",
      "Epoch 25/30\n",
      "47/47 [==============================] - 39s 836ms/step - loss: 0.1603 - accuracy: 0.9737\n",
      "Epoch 26/30\n",
      "47/47 [==============================] - 37s 790ms/step - loss: 0.1622 - accuracy: 0.9730\n",
      "Epoch 27/30\n",
      "47/47 [==============================] - 38s 808ms/step - loss: 0.1520 - accuracy: 0.9803\n",
      "Epoch 28/30\n",
      "47/47 [==============================] - 38s 799ms/step - loss: 0.1524 - accuracy: 0.9773\n",
      "Epoch 29/30\n",
      "47/47 [==============================] - 38s 810ms/step - loss: 0.1570 - accuracy: 0.9763\n",
      "Epoch 30/30\n",
      "47/47 [==============================] - 38s 801ms/step - loss: 0.1399 - accuracy: 0.9807\n"
     ]
    },
    {
     "data": {
      "text/plain": [
       "<keras.callbacks.History at 0x7f518c252b50>"
      ]
     },
     "execution_count": 14,
     "metadata": {},
     "output_type": "execute_result"
    }
   ],
   "source": [
    "# Build model\n",
    "base_model = ResNet50(weights=\"imagenet\", input_shape=(224, 224, 3), include_top=False, pooling='max')\n",
    "\n",
    "model = Sequential()\n",
    "model.add(base_model)\n",
    "model.add(Flatten())\n",
    "model.add(BatchNormalization())\n",
    "model.add(Dense(2048, activation='relu'))\n",
    "model.add(Dropout(0.35))\n",
    "model.add(BatchNormalization())\n",
    "model.add(Dense(2048, activation='relu'))\n",
    "model.add(Dropout(0.35))\n",
    "model.add(BatchNormalization())\n",
    "model.add(Dense(200, activation='softmax'))\n",
    "\n",
    "# Data augmentation\n",
    "datagen = ImageDataGenerator(\n",
    "    rotation_range=25,  # randomly rotate images in the range (degrees, 0 to 180)\n",
    "    width_shift_range=0.2,  # randomly shift images horizontally (fraction of total width)\n",
    "    height_shift_range=0.2,  # randomly shift images vertically (fraction of total height)\n",
    "    zoom_range=0.15,\n",
    "    shear_range=0.15,\n",
    "    horizontal_flip=True,  # randomly flip images\n",
    "    vertical_flip=False)  # randomly flip images\n",
    "\n",
    "# Compile and fit\n",
    "print(\"Phase 1\")\n",
    "base_model.trainable = False\n",
    "opr = Adam(learning_rate=1e-4)\n",
    "model.compile(loss='categorical_crossentropy', optimizer=opr, metrics=['accuracy'])\n",
    "\n",
    "model.fit(datagen.flow(x_train, y_train, batch_size=64),\n",
    "          epochs=30,\n",
    "          shuffle=True)\n",
    "\n",
    "print(\"Phase 2\")\n",
    "base_model.trainable = True\n",
    "opr = Adam(learning_rate=1e-5)\n",
    "model.compile(loss='categorical_crossentropy', optimizer=opr, metrics=['accuracy'])\n",
    "\n",
    "model.fit(datagen.flow(x_train, y_train, batch_size=64),\n",
    "          epochs=30,\n",
    "          shuffle=True)"
   ]
  },
  {
   "cell_type": "code",
   "execution_count": 15,
   "id": "e12e2e02",
   "metadata": {
    "execution": {
     "iopub.execute_input": "2021-11-04T13:14:55.718059Z",
     "iopub.status.busy": "2021-11-04T13:14:55.717417Z",
     "iopub.status.idle": "2021-11-04T13:14:56.980110Z",
     "shell.execute_reply": "2021-11-04T13:14:56.979197Z",
     "shell.execute_reply.started": "2021-11-04T12:06:37.030899Z"
    },
    "papermill": {
     "duration": 2.600676,
     "end_time": "2021-11-04T13:14:56.980281",
     "exception": false,
     "start_time": "2021-11-04T13:14:54.379605",
     "status": "completed"
    },
    "tags": []
   },
   "outputs": [
    {
     "name": "stderr",
     "output_type": "stream",
     "text": [
      "/opt/conda/lib/python3.7/site-packages/keras/utils/generic_utils.py:497: CustomMaskWarning: Custom mask layers require a config and must override get_config. When loading, the custom mask layer must be passed to the custom_objects argument.\n",
      "  category=CustomMaskWarning)\n"
     ]
    }
   ],
   "source": [
    "model.save(\"model.h5\")"
   ]
  },
  {
   "cell_type": "code",
   "execution_count": 16,
   "id": "0e4d1348",
   "metadata": {
    "execution": {
     "iopub.execute_input": "2021-11-04T13:15:00.165168Z",
     "iopub.status.busy": "2021-11-04T13:15:00.164080Z",
     "iopub.status.idle": "2021-11-04T13:15:06.612517Z",
     "shell.execute_reply": "2021-11-04T13:15:06.612023Z",
     "shell.execute_reply.started": "2021-11-04T11:51:08.744925Z"
    },
    "papermill": {
     "duration": 7.819733,
     "end_time": "2021-11-04T13:15:06.612665",
     "exception": false,
     "start_time": "2021-11-04T13:14:58.792932",
     "status": "completed"
    },
    "tags": []
   },
   "outputs": [
    {
     "name": "stdout",
     "output_type": "stream",
     "text": [
      "(3033, 200)\n",
      "(3033,)\n"
     ]
    }
   ],
   "source": [
    "y_pred = model.predict(x_test)\n",
    "print(y_pred.shape)\n",
    "y_pred = np.argmax(y_pred, axis=1)\n",
    "print(y_pred.shape)"
   ]
  },
  {
   "cell_type": "markdown",
   "id": "0325fa91",
   "metadata": {
    "papermill": {
     "duration": 1.711734,
     "end_time": "2021-11-04T13:15:09.722055",
     "exception": false,
     "start_time": "2021-11-04T13:15:08.010321",
     "status": "completed"
    },
    "tags": []
   },
   "source": [
    "## Pack submission file"
   ]
  },
  {
   "cell_type": "code",
   "execution_count": 17,
   "id": "ab7fb38f",
   "metadata": {
    "execution": {
     "iopub.execute_input": "2021-11-04T13:15:12.528251Z",
     "iopub.status.busy": "2021-11-04T13:15:12.527695Z",
     "iopub.status.idle": "2021-11-04T13:15:12.546474Z",
     "shell.execute_reply": "2021-11-04T13:15:12.546915Z",
     "shell.execute_reply.started": "2021-11-04T11:51:15.072357Z"
    },
    "papermill": {
     "duration": 1.424329,
     "end_time": "2021-11-04T13:15:12.547068",
     "exception": false,
     "start_time": "2021-11-04T13:15:11.122739",
     "status": "completed"
    },
    "tags": []
   },
   "outputs": [],
   "source": [
    "submission = []\n",
    "for i in range(len(x_test_order)):\n",
    "    img = x_test_order[i]\n",
    "    pred_class = index2class[y_pred[i]]\n",
    "    submission.append([img, pred_class])\n",
    "\n",
    "np.savetxt('answer.txt', submission, fmt='%s')"
   ]
  }
 ],
 "metadata": {
  "kernelspec": {
   "display_name": "Python 3",
   "language": "python",
   "name": "python3"
  },
  "language_info": {
   "codemirror_mode": {
    "name": "ipython",
    "version": 3
   },
   "file_extension": ".py",
   "mimetype": "text/x-python",
   "name": "python",
   "nbconvert_exporter": "python",
   "pygments_lexer": "ipython3",
   "version": "3.7.10"
  },
  "papermill": {
   "default_parameters": {},
   "duration": 3936.1884,
   "end_time": "2021-11-04T13:15:17.483571",
   "environment_variables": {},
   "exception": null,
   "input_path": "__notebook__.ipynb",
   "output_path": "__notebook__.ipynb",
   "parameters": {},
   "start_time": "2021-11-04T12:09:41.295171",
   "version": "2.3.3"
  }
 },
 "nbformat": 4,
 "nbformat_minor": 5
}
